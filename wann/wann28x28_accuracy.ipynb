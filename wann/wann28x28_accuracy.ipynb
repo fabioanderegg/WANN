{
 "cells": [
  {
   "cell_type": "code",
   "execution_count": 1,
   "metadata": {},
   "outputs": [],
   "source": [
    "from model import Model\n",
    "from collections import namedtuple\n",
    "import sys\n",
    "import occlusion\n",
    "import random\n",
    "from PIL import Image\n",
    "import numpy as np\n",
    "import matplotlib.pyplot as plt"
   ]
  },
  {
   "cell_type": "code",
   "execution_count": 2,
   "metadata": {},
   "outputs": [
    {
     "name": "stdout",
     "output_type": "stream",
     "text": [
      "loading file brain-tokyo-workshop/WANNRelease/WANNTool/log/mnist784test.cma.4.32.best.json\n"
     ]
    }
   ],
   "source": [
    "random.seed(1)\n",
    "np.random.seed(1)\n",
    "\n",
    "Game = namedtuple('Game', ['env_name', 'input_size', 'output_size', 'wann_file', 'action_select', 'weight_bias'])\n",
    "game = Game(env_name='MNISTTEST784-v0',\n",
    "  input_size=784,\n",
    "  output_size=10,\n",
    "  wann_file='brain-tokyo-workshop/WANNRelease/WANNTool/champions/mnist784_best.out',\n",
    "  action_select='softmax', # all, soft, hard\n",
    "  weight_bias=0.0,\n",
    ")\n",
    "model = Model(game)\n",
    "model.make_env()\n",
    "model.env.seed(1)\n",
    "model.load_model('brain-tokyo-workshop/WANNRelease/WANNTool/log/mnist784test.cma.4.32.best.json')\n",
    "\n",
    "batch = model.env.reset()\n",
    "output = model.get_action(batch)"
   ]
  },
  {
   "cell_type": "code",
   "execution_count": 3,
   "metadata": {},
   "outputs": [],
   "source": [
    "classes = np.argmax(output, axis=1)"
   ]
  },
  {
   "cell_type": "code",
   "execution_count": 4,
   "metadata": {},
   "outputs": [],
   "source": [
    "correct_count = np.count_nonzero(classes == model.env.target[model.env.currIndx])"
   ]
  },
  {
   "cell_type": "code",
   "execution_count": 5,
   "metadata": {},
   "outputs": [
    {
     "name": "stdout",
     "output_type": "stream",
     "text": [
      "accuracy:  0.8637\n"
     ]
    }
   ],
   "source": [
    "print('accuracy: ', correct_count / len(output))"
   ]
  }
 ],
 "metadata": {
  "kernelspec": {
   "display_name": "Python 3",
   "language": "python",
   "name": "python3"
  },
  "language_info": {
   "codemirror_mode": {
    "name": "ipython",
    "version": 3
   },
   "file_extension": ".py",
   "mimetype": "text/x-python",
   "name": "python",
   "nbconvert_exporter": "python",
   "pygments_lexer": "ipython3",
   "version": "3.7.3"
  }
 },
 "nbformat": 4,
 "nbformat_minor": 2
}
