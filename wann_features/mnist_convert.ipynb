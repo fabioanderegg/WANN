{
 "cells": [
  {
   "cell_type": "code",
   "execution_count": null,
   "metadata": {},
   "outputs": [],
   "source": [
    "import mnist\n",
    "import radiomics\n",
    "import matplotlib.pyplot as plt\n",
    "import numpy as np\n",
    "import SimpleITK as sitk"
   ]
  },
  {
   "cell_type": "code",
   "execution_count": null,
   "metadata": {},
   "outputs": [],
   "source": [
    "x_train = mnist.train_images()\n",
    "y_train = mnist.train_labels()\n",
    "x_test = mnist.test_images()\n",
    "y_test = mnist.test_labels()"
   ]
  },
  {
   "cell_type": "code",
   "execution_count": null,
   "metadata": {},
   "outputs": [],
   "source": [
    "def convert(samples):\n",
    "    mask = sitk.GetImageFromArray(np.ones((28,28)))\n",
    "    images = []\n",
    "    for i, image in enumerate(samples):\n",
    "        if i % 1000 == 0:\n",
    "            print(i)\n",
    "        features = radiomics.firstorder.RadiomicsFirstOrder(sitk.GetImageFromArray(image), mask)\n",
    "        features.enableAllFeatures()  # On the feature class level, all features are disabled by default.\n",
    "        features.execute()\n",
    "\n",
    "        features = np.array([v[1] for v in sorted(features.featureValues.items(), key=lambda x: x[0])])\n",
    "        images.append(features)\n",
    "\n",
    "    return np.stack(images)\n",
    "\n",
    "np.save('mnist_features_train.npy', convert(x_train))\n",
    "np.save('mnist_features_test.npy', convert(x_test))"
   ]
  }
 ],
 "metadata": {
  "kernelspec": {
   "display_name": "Python 3",
   "language": "python",
   "name": "python3"
  },
  "language_info": {
   "codemirror_mode": {
    "name": "ipython",
    "version": 3
   },
   "file_extension": ".py",
   "mimetype": "text/x-python",
   "name": "python",
   "nbconvert_exporter": "python",
   "pygments_lexer": "ipython3",
   "version": "3.7.3"
  }
 },
 "nbformat": 4,
 "nbformat_minor": 2
}
