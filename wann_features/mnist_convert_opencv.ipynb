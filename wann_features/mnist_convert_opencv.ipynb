{
 "cells": [
  {
   "cell_type": "code",
   "execution_count": null,
   "metadata": {},
   "outputs": [],
   "source": [
    "import mnist\n",
    "import matplotlib.pyplot as plt\n",
    "import numpy as np\n",
    "import cv2 as cv"
   ]
  },
  {
   "cell_type": "code",
   "execution_count": null,
   "metadata": {},
   "outputs": [],
   "source": [
    "x_train = mnist.train_images()\n",
    "y_train = mnist.train_labels()\n",
    "x_test = mnist.test_images()\n",
    "y_test = mnist.test_labels()"
   ]
  },
  {
   "cell_type": "code",
   "execution_count": null,
   "metadata": {
    "scrolled": false
   },
   "outputs": [],
   "source": [
    "def get_features(image):\n",
    "    contours, _ = cv.findContours(image, cv.RETR_TREE, cv.CHAIN_APPROX_SIMPLE)\n",
    "    cnt = contours[0]\n",
    "\n",
    "    features = {}\n",
    "\n",
    "    area = cv.contourArea(cnt)\n",
    "    features['area'] = area\n",
    "    perimeter = cv.arcLength(cnt, True)\n",
    "    features['perimeter'] = perimeter\n",
    "    \n",
    "    x, y, w, h = cv.boundingRect(cnt)\n",
    "    features['aspect_ratio'] = float(w) / float(h)\n",
    "    \n",
    "    rect_area = w*h\n",
    "    features['extent'] = float(area) / float(rect_area)\n",
    "    \n",
    "    hull = cv.convexHull(cnt)\n",
    "    hull_area = cv.contourArea(hull)\n",
    "    features['hull_area'] = hull_area\n",
    "    try:\n",
    "        features['solidity'] = float(area) / float(hull_area)\n",
    "    except:\n",
    "        features['solidity'] = 0.0\n",
    "\n",
    "    try:\n",
    "        (x, y), (MA, ma), angle = cv.fitEllipse(cnt)\n",
    "    except:\n",
    "        angle, MA, ma = 0.0, 0.0, 0.0\n",
    "    features['angle'] = angle\n",
    "    features['major_axis_length'] = MA\n",
    "    features['minor_axis_length'] = ma\n",
    "    return features"
   ]
  },
  {
   "cell_type": "code",
   "execution_count": null,
   "metadata": {
    "scrolled": false
   },
   "outputs": [],
   "source": [
    "def convert(samples):\n",
    "    images = []\n",
    "    for i, image in enumerate(samples):\n",
    "        if i % 1000 == 0:\n",
    "            print(i)\n",
    "        \n",
    "        features = get_features(image)\n",
    "        features = np.array([v[1] for v in sorted(features.items(), key=lambda x: x[0])])\n",
    "        images.append(features)\n",
    "\n",
    "    return np.stack(images)\n",
    "\n",
    "np.save('mnist_features_train.npy', convert(x_train))\n",
    "np.save('mnist_features_test.npy', convert(x_test))"
   ]
  }
 ],
 "metadata": {
  "kernelspec": {
   "display_name": "Python 3",
   "language": "python",
   "name": "python3"
  },
  "language_info": {
   "codemirror_mode": {
    "name": "ipython",
    "version": 3
   },
   "file_extension": ".py",
   "mimetype": "text/x-python",
   "name": "python",
   "nbconvert_exporter": "python",
   "pygments_lexer": "ipython3",
   "version": "3.7.3"
  }
 },
 "nbformat": 4,
 "nbformat_minor": 2
}
