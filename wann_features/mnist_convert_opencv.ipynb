{
 "cells": [
  {
   "cell_type": "code",
   "execution_count": null,
   "metadata": {},
   "outputs": [],
   "source": [
    "import mnist\n",
    "import matplotlib.pyplot as plt\n",
    "import numpy as np\n",
    "import cv2 as cv"
   ]
  },
  {
   "cell_type": "code",
   "execution_count": null,
   "metadata": {},
   "outputs": [],
   "source": [
    "x_train = mnist.train_images()\n",
    "y_train = mnist.train_labels()\n",
    "x_test = mnist.test_images()\n",
    "y_test = mnist.test_labels()"
   ]
  },
  {
   "cell_type": "code",
   "execution_count": null,
   "metadata": {
    "scrolled": false
   },
   "outputs": [],
   "source": [
    "def elongation(m):\n",
    "    x = m['mu20'] + m['mu02']\n",
    "    y = 4 * m['mu11']**2 + (m['mu20'] - m['mu02'])**2\n",
    "    return (x + y**0.5) / (x - y**0.5)\n",
    "\n",
    "\n",
    "def get_features(image):\n",
    "    contours, _ = cv.findContours(image, cv.RETR_TREE, cv.CHAIN_APPROX_SIMPLE)\n",
    "    cnt = contours[0]\n",
    "\n",
    "    features = {}\n",
    "\n",
    "    area = cv.contourArea(cnt)\n",
    "    features['area'] = area\n",
    "    perimeter = cv.arcLength(cnt, True)\n",
    "    features['perimeter'] = perimeter\n",
    "    try:\n",
    "        features['perimeter_area_ratio'] = float(perimeter) / float(area)\n",
    "    except:\n",
    "        features['perimeter_area_ratio'] = 0\n",
    "\n",
    "    x, y, w, h = cv.boundingRect(cnt)\n",
    "    features['aspect_ratio'] = float(w) / float(h)\n",
    "    \n",
    "    rect_area = w*h\n",
    "    features['extent'] = float(area) / float(rect_area)\n",
    "    \n",
    "    hull = cv.convexHull(cnt)\n",
    "    hull_area = cv.contourArea(hull)\n",
    "    features['hull_area'] = hull_area\n",
    "    try:\n",
    "        features['solidity'] = float(area) / float(hull_area)\n",
    "    except:\n",
    "        features['solidity'] = 0.0\n",
    "\n",
    "    try:\n",
    "        (x, y), (MA, ma), angle = cv.fitEllipse(cnt)\n",
    "    except:\n",
    "        angle, MA, ma = 0.0, 0.0, 0.0\n",
    "    features['angle'] = angle\n",
    "    features['major_axis_length'] = MA\n",
    "    features['minor_axis_length'] = ma\n",
    "    \n",
    "    moments = cv.moments(image)\n",
    "    features['elongation'] = elongation(moments)\n",
    "    hu_moments = cv.HuMoments(moments)[0]\n",
    "    \n",
    "    c_moments = [moments[key] for key in ['m00', 'mu03', 'mu11', 'mu12', 'mu20', 'mu21', 'mu30']]\n",
    "    cn_moments = [moments[key] for key in ['nu02', 'nu03', 'nu11', 'nu12', 'nu20', 'nu21', 'nu30']]\n",
    "\n",
    "    return features, c_moments, cn_moments, hu_moments"
   ]
  },
  {
   "cell_type": "code",
   "execution_count": null,
   "metadata": {
    "scrolled": false
   },
   "outputs": [],
   "source": [
    "def convert(samples, prefix):\n",
    "    all_features, all_c_moments, all_cn_moments, all_hu_moments = [], [], [], []\n",
    "    for i, image in enumerate(samples):\n",
    "        if i % 1000 == 0:\n",
    "            print(i)\n",
    "        \n",
    "        features, c_moments, cn_moments, hu_moments = get_features(image)\n",
    "        features = np.array([v[1] for v in sorted(features.items(), key=lambda x: x[0])])\n",
    "        all_features.append(features)\n",
    "        all_c_moments.append(c_moments)\n",
    "        all_cn_moments.append(cn_moments)\n",
    "        all_hu_moments.append(hu_moments)\n",
    "\n",
    "    all_features = np.stack(all_features)\n",
    "    all_c_moments = np.stack(all_c_moments)\n",
    "    all_cn_moments = np.stack(all_cn_moments)\n",
    "    all_hu_moments = np.stack(all_hu_moments)\n",
    "    \n",
    "    np.save(f'{prefix}_c_moments.npy', all_c_moments)\n",
    "    np.save(f'{prefix}_cn_moments.npy', all_cn_moments)\n",
    "    np.save(f'{prefix}_features.npy', all_features)\n",
    "    np.save(f'{prefix}_hu_moments.npy', all_hu_moments)\n",
    "\n",
    "convert(x_train, 'mnist_train')\n",
    "convert(x_test, 'mnist_test')"
   ]
  }
 ],
 "metadata": {
  "kernelspec": {
   "display_name": "Python 3",
   "language": "python",
   "name": "python3"
  },
  "language_info": {
   "codemirror_mode": {
    "name": "ipython",
    "version": 3
   },
   "file_extension": ".py",
   "mimetype": "text/x-python",
   "name": "python",
   "nbconvert_exporter": "python",
   "pygments_lexer": "ipython3",
   "version": "3.7.3"
  }
 },
 "nbformat": 4,
 "nbformat_minor": 2
}
