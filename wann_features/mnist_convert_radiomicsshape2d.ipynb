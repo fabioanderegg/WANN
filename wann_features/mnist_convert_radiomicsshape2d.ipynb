{
 "cells": [
  {
   "cell_type": "code",
   "execution_count": null,
   "metadata": {},
   "outputs": [],
   "source": [
    "import mnist\n",
    "import radiomics\n",
    "import matplotlib.pyplot as plt\n",
    "import numpy as np\n",
    "import SimpleITK as sitk\n",
    "import cv2 as cv"
   ]
  },
  {
   "cell_type": "code",
   "execution_count": null,
   "metadata": {},
   "outputs": [],
   "source": [
    "x_train = mnist.train_images()\n",
    "y_train = mnist.train_labels()\n",
    "x_test = mnist.test_images()\n",
    "y_test = mnist.test_labels()"
   ]
  },
  {
   "cell_type": "code",
   "execution_count": null,
   "metadata": {
    "scrolled": false
   },
   "outputs": [],
   "source": [
    "def convert(samples):\n",
    "    images = []\n",
    "    for i, image in enumerate(samples):\n",
    "        if i % 1000 == 0:\n",
    "            print(i)\n",
    "\n",
    "        _, im = cv.threshold(image, 128, 255, cv.THRESH_BINARY)\n",
    "        mask = im.astype(np.float32) / 255.0\n",
    "        mask = sitk.GetImageFromArray(mask)\n",
    "        \n",
    "        features = radiomics.shape2D.RadiomicsShape2D(sitk.GetImageFromArray(image), mask)\n",
    "        features.enableAllFeatures()\n",
    "        features.execute()\n",
    "        features = np.array([v[1] for v in sorted(features.featureValues.items(), key=lambda x: x[0])])\n",
    "        images.append(features)\n",
    "\n",
    "    return np.stack(images)\n",
    "\n",
    "\n",
    "np.save('mnist_train_radiomics.npy', convert(x_train))\n",
    "np.save('mnist_test_radiomics.npy', convert(x_test))"
   ]
  }
 ],
 "metadata": {
  "kernelspec": {
   "display_name": "Python 3",
   "language": "python",
   "name": "python3"
  },
  "language_info": {
   "codemirror_mode": {
    "name": "ipython",
    "version": 3
   },
   "file_extension": ".py",
   "mimetype": "text/x-python",
   "name": "python",
   "nbconvert_exporter": "python",
   "pygments_lexer": "ipython3",
   "version": "3.7.3"
  }
 },
 "nbformat": 4,
 "nbformat_minor": 2
}
