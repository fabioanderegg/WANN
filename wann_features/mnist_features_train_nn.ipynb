{
  "nbformat": 4,
  "nbformat_minor": 0,
  "metadata": {
    "colab": {
      "name": "mnist_features_train.ipynb",
      "provenance": [],
      "collapsed_sections": []
    },
    "kernelspec": {
      "name": "python3",
      "display_name": "Python 3"
    },
    "accelerator": "GPU"
  },
  "cells": [
    {
      "cell_type": "code",
      "metadata": {
        "id": "GpJAY7aLsLlz",
        "colab_type": "code",
        "colab": {}
      },
      "source": [
        "!pip install mnist"
      ],
      "execution_count": 0,
      "outputs": []
    },
    {
      "cell_type": "code",
      "metadata": {
        "id": "ET9v5JGo-FjC",
        "colab_type": "code",
        "colab": {}
      },
      "source": [
        "from google.colab import drive\n",
        "drive.mount('/content/drive')"
      ],
      "execution_count": 0,
      "outputs": []
    },
    {
      "cell_type": "code",
      "metadata": {
        "id": "3n0SfgLGBXbC",
        "colab_type": "code",
        "colab": {}
      },
      "source": [
        "!cp \"/content/drive/My Drive/imimic/wann/mnist_test_c_moments.npy\" .\n",
        "!cp \"/content/drive/My Drive/imimic/wann/mnist_test_cn_moments.npy\" .\n",
        "!cp \"/content/drive/My Drive/imimic/wann/mnist_test_features.npy\" .\n",
        "!cp \"/content/drive/My Drive/imimic/wann/mnist_test_hu_moments.npy\" .\n",
        "!cp \"/content/drive/My Drive/imimic/wann/mnist_test_radiomics.npy\" .\n",
        "!cp \"/content/drive/My Drive/imimic/wann/mnist_train_c_moments.npy\" .\n",
        "!cp \"/content/drive/My Drive/imimic/wann/mnist_train_cn_moments.npy\" .\n",
        "!cp \"/content/drive/My Drive/imimic/wann/mnist_train_features.npy\" .\n",
        "!cp \"/content/drive/My Drive/imimic/wann/mnist_train_hu_moments.npy\" .\n",
        "!cp \"/content/drive/My Drive/imimic/wann/mnist_train_radiomics.npy\" ."
      ],
      "execution_count": 0,
      "outputs": []
    },
    {
      "cell_type": "code",
      "metadata": {
        "id": "Gfm1JHAisSEV",
        "colab_type": "code",
        "colab": {}
      },
      "source": [
        "import numpy as np\n",
        "import cv2\n",
        "import random\n",
        "import matplotlib.pyplot as plt\n",
        "from PIL import Image\n",
        "import mnist\n",
        "random.seed(1)\n",
        "np.random.seed(1)\n",
        "from __future__ import print_function\n",
        "import keras \n",
        "from keras.models import Sequential\n",
        "from keras.layers import Dense, Dropout, Flatten\n",
        "from keras import backend as K\n",
        "from keras.callbacks import ModelCheckpoint\n"
      ],
      "execution_count": 0,
      "outputs": []
    },
    {
      "cell_type": "code",
      "metadata": {
        "id": "OgTA0r-hpIxU",
        "colab_type": "code",
        "colab": {}
      },
      "source": [
        "num_classes = 10\n",
        "\n",
        "y_train = mnist.train_labels()\n",
        "y_test = mnist.test_labels()\n",
        "# convert class vectors to binary class matrices\n",
        "y_train = keras.utils.to_categorical(y_train, num_classes)\n",
        "y_test = keras.utils.to_categorical(y_test, num_classes)\n",
        "\n",
        "\n",
        "PREFIX = 'features'\n",
        "x_train1 = np.load(f'mnist_train_{PREFIX}.npy')\n",
        "x_test1 = np.load(f'mnist_test_{PREFIX}.npy')\n",
        "\n",
        "PREFIX = 'radiomics'\n",
        "x_train2 = np.load(f'mnist_train_{PREFIX}.npy')\n",
        "x_test2 = np.load(f'mnist_test_{PREFIX}.npy')\n",
        "\n",
        "x_train = np.concatenate((x_train1, x_train2), axis=1)\n",
        "x_test = np.concatenate((x_test1, x_test2), axis=1)\n"
      ],
      "execution_count": 0,
      "outputs": []
    },
    {
      "cell_type": "code",
      "metadata": {
        "id": "Ta4qleXotRrs",
        "colab_type": "code",
        "colab": {}
      },
      "source": [
        "model = Sequential()\n",
        "model.add(Dense(500, activation='relu'))\n",
        "model.add(Dropout(0.5))\n",
        "model.add(Dense(500, activation='relu'))\n",
        "model.add(Dropout(0.5))\n",
        "model.add(Dense(num_classes, activation='softmax'))\n",
        "\n",
        "model.compile(loss=keras.losses.categorical_crossentropy,\n",
        "              optimizer=keras.optimizers.Adadelta(),\n",
        "              metrics=['accuracy'])"
      ],
      "execution_count": 0,
      "outputs": []
    },
    {
      "cell_type": "code",
      "metadata": {
        "id": "PbVCxz6XsVI-",
        "colab_type": "code",
        "colab": {}
      },
      "source": [
        "batch_size = 128\n",
        "epochs = 1000\n",
        "\n",
        "filepath = 'weights-{epoch:02d}-{acc:.4f}-{val_acc:.4f}.hdf5'\n",
        "checkpoint = ModelCheckpoint(filepath, monitor='val_acc', verbose=1, save_best_only=True, mode='max')\n",
        "\n",
        "# fits the model on batches with real-time data augmentation:\n",
        "model.fit(x_train, y_train, batch_size=batch_size, epochs=epochs,\n",
        "          verbose=1, validation_data=(x_test, y_test), callbacks=[checkpoint])\n",
        "\n",
        "score = model.evaluate(x_test, y_test, verbose=0)\n",
        "print('Test loss:', score[0])\n",
        "print('Test accuracy:', score[1])"
      ],
      "execution_count": 0,
      "outputs": []
    },
    {
      "cell_type": "code",
      "metadata": {
        "id": "ZEltcs_NP-SY",
        "colab_type": "code",
        "colab": {}
      },
      "source": [
        "!cp /content/weights-56-0.7169-0.7629.hdf5 \"/content/drive/My Drive/imimic/wann/feature_weights.hdf5\""
      ],
      "execution_count": 0,
      "outputs": []
    }
  ]
}